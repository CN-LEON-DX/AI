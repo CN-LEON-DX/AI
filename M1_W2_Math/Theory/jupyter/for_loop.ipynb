{
 "cells": [
  {
   "cell_type": "code",
   "execution_count": 2,
   "id": "5c3b402f",
   "metadata": {},
   "outputs": [
    {
     "name": "stdout",
     "output_type": "stream",
     "text": [
      "0 1 2 3 4 "
     ]
    }
   ],
   "source": [
    "for i in range(5):\n",
    "    print(i, end=\" \")"
   ]
  },
  {
   "cell_type": "code",
   "execution_count": 3,
   "id": "3f433646",
   "metadata": {},
   "outputs": [
    {
     "name": "stdout",
     "output_type": "stream",
     "text": [
      "F U Z Z Y F O X "
     ]
    }
   ],
   "source": [
    "for i in \"FUZZYFOX\":\n",
    "    print(i, end=\" \")"
   ]
  },
  {
   "cell_type": "code",
   "execution_count": null,
   "id": "0be67240",
   "metadata": {},
   "outputs": [
    {
     "name": "stdout",
     "output_type": "stream",
     "text": [
      "a b c "
     ]
    }
   ],
   "source": [
    "\n",
    "# list  \n",
    "f = ['a', 'b', 'c']\n",
    "for i in f:\n",
    "    print(i, end=\" \")"
   ]
  },
  {
   "cell_type": "code",
   "execution_count": 5,
   "id": "2a2a476f",
   "metadata": {},
   "outputs": [
    {
     "name": "stdout",
     "output_type": "stream",
     "text": [
      "a b c "
     ]
    }
   ],
   "source": [
    "# tuple\n",
    "app = ('a', 'b', 'c')\n",
    "for i in app:\n",
    "    print(i, end=\" \")"
   ]
  },
  {
   "cell_type": "code",
   "execution_count": 12,
   "id": "18da9e15",
   "metadata": {},
   "outputs": [
    {
     "name": "stdout",
     "output_type": "stream",
     "text": [
      "This is points: A and got point 9\n",
      "This is points: B and got point 10\n",
      "This is points: C and got point 11\n"
     ]
    }
   ],
   "source": [
    "students = {\n",
    "    \"A\": 9,\n",
    "    \"B\": 10,\n",
    "    \"C\": 11\n",
    "}\n",
    "\n",
    "for u, v in students.items():\n",
    "    print(f'This is points: {u} and got point {v}')"
   ]
  },
  {
   "cell_type": "code",
   "execution_count": 15,
   "id": "efdf10a4",
   "metadata": {},
   "outputs": [
    {
     "name": "stdout",
     "output_type": "stream",
     "text": [
      "[0, 4, 16, 36, 64]\n",
      "[1, 9, 25, 49, 81]\n"
     ]
    }
   ],
   "source": [
    "# COMPREHENSION LOOP\n",
    "# USSING FOR CREATE NEW LIST OR ITERABLE\n",
    "\n",
    "square = [x ** 2 for x in range(10) if x % 2 == 0]\n",
    "print(square)\n",
    "# [result _ for + item + in _ iterable _ condition]\n",
    "print([i * i for i in range(10) if i % 2 == 1])"
   ]
  },
  {
   "cell_type": "code",
   "execution_count": 18,
   "id": "1cf5b780",
   "metadata": {},
   "outputs": [
    {
     "name": "stdout",
     "output_type": "stream",
     "text": [
      "{'key': 9}\n",
      "{'key0': 0, 'key1': 1, 'key2': 4, 'key3': 9, 'key4': 16, 'key5': 25, 'key6': 36, 'key7': 49, 'key8': 64, 'key9': 81}\n"
     ]
    }
   ],
   "source": [
    "# dictionary comprehension\n",
    "\n",
    "dic = {\"key\":x for x in range(10) if x % 2}\n",
    "print(dic)\n",
    "\n",
    "dic1 = {f'key{x}':x*x for x in range(10)}\n",
    "print(dic1)"
   ]
  },
  {
   "cell_type": "code",
   "execution_count": 10,
   "id": "2460c689",
   "metadata": {},
   "outputs": [
    {
     "name": "stdout",
     "output_type": "stream",
     "text": [
      "2.5937424601000023\n",
      "2.7070414908622435\n",
      "2.712395974394588\n",
      "2.7142951025118482\n",
      "2.7152676547832946\n",
      "2.7158587571810417\n",
      "2.7162560313867945\n",
      "2.716541385400671\n",
      "2.716756275032214\n"
     ]
    }
   ],
   "source": [
    "# euler number \n",
    "\n",
    "# e ~ ( 1 + 1/n)^n when n--> inf\n",
    "\n",
    "import numpy as np\n",
    "\n",
    "a = np.arange(10, 1000, 1)\n",
    "def euler():\n",
    "    for i in a:\n",
    "        print((1.00 + 1.00/i)**i)\n",
    "    \n",
    "euler()"
   ]
  },
  {
   "cell_type": "code",
   "execution_count": 17,
   "id": "e69abdd5",
   "metadata": {},
   "outputs": [
    {
     "name": "stdout",
     "output_type": "stream",
     "text": [
      "3.141592663589326\n"
     ]
    }
   ],
   "source": [
    "# pi estimation \n",
    "PI = 0.00\n",
    "def pi_estimate(n):\n",
    "    global PI\n",
    "    for i in range(1, n):\n",
    "      PI += (-1)**(i+1)/(2*i-1)\n",
    "pi_estimate(100000)\n",
    "print(PI * 4)\n"
   ]
  },
  {
   "cell_type": "code",
   "execution_count": null,
   "id": "2140efbb",
   "metadata": {},
   "outputs": [],
   "source": [
    "# unit circle area "
   ]
  }
 ],
 "metadata": {
  "kernelspec": {
   "display_name": "Python 3",
   "language": "python",
   "name": "python3"
  },
  "language_info": {
   "codemirror_mode": {
    "name": "ipython",
    "version": 3
   },
   "file_extension": ".py",
   "mimetype": "text/x-python",
   "name": "python",
   "nbconvert_exporter": "python",
   "pygments_lexer": "ipython3",
   "version": "3.12.1"
  }
 },
 "nbformat": 4,
 "nbformat_minor": 5
}
