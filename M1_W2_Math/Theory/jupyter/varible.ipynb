{
 "cells": [
  {
   "cell_type": "code",
   "execution_count": null,
   "id": "101ddab3",
   "metadata": {},
   "outputs": [],
   "source": [
    "# lie truth  classification\n",
    "\n",
    "def classifi(y_hat, y):\n",
    "    return "
   ]
  }
 ],
 "metadata": {
  "language_info": {
   "name": "python"
  }
 },
 "nbformat": 4,
 "nbformat_minor": 5
}
