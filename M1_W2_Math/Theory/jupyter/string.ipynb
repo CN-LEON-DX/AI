{
 "cells": [
  {
   "cell_type": "code",
   "execution_count": 8,
   "id": "160b741e",
   "metadata": {},
   "outputs": [
    {
     "name": "stdout",
     "output_type": "stream",
     "text": [
      "fuzzyfox f x\n",
      "8\n",
      "fuzzyfox\n",
      "FUZZYFOX\n",
      "Fuzzyfox\n",
      "['Fuzzy', 'Fox', 'Learn', 'Ai']\n"
     ]
    }
   ],
   "source": [
    "str = \"fuzzyfox\"\n",
    "print(str, str[0], str[-1])\n",
    "print(len(str))\n",
    "\n",
    "# toupper\n",
    "# tolower\n",
    "# title\n",
    "print(str.lower())\n",
    "print(str.upper())\n",
    "print(str.title())\n",
    "\n",
    "# seperate string \n",
    "a = \"fuzzy fox learn ai\"\n",
    "print([x.title() for x in a.split(\" \")])"
   ]
  }
 ],
 "metadata": {
  "kernelspec": {
   "display_name": "Python 3",
   "language": "python",
   "name": "python3"
  },
  "language_info": {
   "codemirror_mode": {
    "name": "ipython",
    "version": 3
   },
   "file_extension": ".py",
   "mimetype": "text/x-python",
   "name": "python",
   "nbconvert_exporter": "python",
   "pygments_lexer": "ipython3",
   "version": "3.12.1"
  }
 },
 "nbformat": 4,
 "nbformat_minor": 5
}
