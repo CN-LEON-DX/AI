{
 "cells": [
  {
   "cell_type": "code",
   "id": "initial_id",
   "metadata": {
    "collapsed": true,
    "ExecuteTime": {
     "end_time": "2025-08-17T12:20:29.702597Z",
     "start_time": "2025-08-17T12:20:29.688994Z"
    }
   },
   "source": [
    "from sklearn.metrics import confusion_matrix\n",
    "from sklearn.metrics import classification_report\n",
    "from sklearn.model_selection import train_test_split\n",
    "\n",
    "import pandas as pd\n",
    "\n",
    "iris = pd.read_csv('iris_1D.csv')\n",
    "\n",
    "print(iris)"
   ],
   "outputs": [
    {
     "name": "stdout",
     "output_type": "stream",
     "text": [
      "   Petal_Length  Label\n",
      "0           1.4    0.0\n",
      "1           1.0    0.0\n",
      "2           1.3    0.0\n",
      "3           1.9    0.0\n",
      "4           2.0    0.0\n",
      "5           3.8    1.0\n",
      "6           4.1    1.0\n",
      "7           3.9    1.0\n",
      "8           4.2    1.0\n",
      "9           3.4    1.0\n"
     ]
    }
   ],
   "execution_count": 2
  },
  {
   "metadata": {
    "ExecuteTime": {
     "end_time": "2025-08-17T12:22:02.664850Z",
     "start_time": "2025-08-17T12:22:02.662014Z"
    }
   },
   "cell_type": "code",
   "source": [
    "X_train = iris.iloc[:, :-1].values\n",
    "y_train = iris.iloc[:, -1].values # dataframe to numpy arr"
   ],
   "id": "474160779b28c32d",
   "outputs": [],
   "execution_count": 4
  },
  {
   "metadata": {
    "ExecuteTime": {
     "end_time": "2025-08-17T12:25:18.631690Z",
     "start_time": "2025-08-17T12:25:18.626704Z"
    }
   },
   "cell_type": "code",
   "source": "X_train[:, 0]",
   "id": "aff2fd257d25d6c9",
   "outputs": [
    {
     "data": {
      "text/plain": [
       "array([1.4, 1. , 1.3, 1.9, 2. , 3.8, 4.1, 3.9, 4.2, 3.4])"
      ]
     },
     "execution_count": 5,
     "metadata": {},
     "output_type": "execute_result"
    }
   ],
   "execution_count": 5
  },
  {
   "metadata": {
    "ExecuteTime": {
     "end_time": "2025-08-17T12:28:04.494814Z",
     "start_time": "2025-08-17T12:28:04.491828Z"
    }
   },
   "cell_type": "code",
   "source": "y_train",
   "id": "b396bebf663cd35e",
   "outputs": [
    {
     "data": {
      "text/plain": [
       "array([0., 0., 0., 0., 0., 1., 1., 1., 1., 1.])"
      ]
     },
     "execution_count": 8,
     "metadata": {},
     "output_type": "execute_result"
    }
   ],
   "execution_count": 8
  },
  {
   "metadata": {
    "ExecuteTime": {
     "end_time": "2025-08-17T13:05:13.945966Z",
     "start_time": "2025-08-17T13:05:13.936469Z"
    }
   },
   "cell_type": "code",
   "source": [
    "from sklearn.naive_bayes import GaussianNB\n",
    "import numpy as np\n",
    "\n",
    "classifier = GaussianNB() # classifier will caculate the mean and varience\n",
    "clf = classifier.fit(X_train, y_train)"
   ],
   "id": "ce46fd8c5a103d3a",
   "outputs": [],
   "execution_count": 28
  },
  {
   "metadata": {
    "ExecuteTime": {
     "end_time": "2025-08-17T12:33:17.710400Z",
     "start_time": "2025-08-17T12:33:17.706798Z"
    }
   },
   "cell_type": "code",
   "source": "print(classifier, classifier.theta_, classifier.var_) # theta_ = mean,",
   "id": "11a1b3ac97429f0",
   "outputs": [
    {
     "name": "stdout",
     "output_type": "stream",
     "text": [
      "GaussianNB() [[1.52]\n",
      " [3.88]] [[0.1416]\n",
      " [0.0776]]\n"
     ]
    }
   ],
   "execution_count": 12
  },
  {
   "metadata": {},
   "cell_type": "markdown",
   "source": "CODE MANUALLY with fuzzyfox",
   "id": "c9d5a0a059f52249"
  },
  {
   "metadata": {
    "ExecuteTime": {
     "end_time": "2025-08-17T12:51:48.566344Z",
     "start_time": "2025-08-17T12:51:48.562515Z"
    }
   },
   "cell_type": "code",
   "source": [
    "import math\n",
    "import numpy as np\n",
    "\n",
    "def gaussian_fun(mean, var, data):\n",
    "    return 1/np.sqrt(2 * var * math.pi) * np.exp(-1/(2 * var) * (data - mean) ** 2)\n"
   ],
   "id": "495e6293d3b0f00",
   "outputs": [],
   "execution_count": 22
  },
  {
   "metadata": {
    "ExecuteTime": {
     "end_time": "2025-08-17T13:05:11.082493Z",
     "start_time": "2025-08-17T13:05:11.079961Z"
    }
   },
   "cell_type": "code",
   "source": [
    "data_c0 = np.array([1.4, 1.0, 1.3, 1.9, 2.0])\n",
    "mean_c0 = data_c0.mean()\n",
    "var_c0  = data_c0.var()\n",
    "data_c1 = np.array([3.8, 4.1, 3.9, 4.2, 3.4])\n",
    "mean_c1 = data_c1.mean()\n",
    "var_c1  = data_c1.var()"
   ],
   "id": "b7d60d01ec3092a0",
   "outputs": [],
   "execution_count": 27
  },
  {
   "metadata": {
    "ExecuteTime": {
     "end_time": "2025-08-17T13:13:05.176362Z",
     "start_time": "2025-08-17T13:13:05.171352Z"
    }
   },
   "cell_type": "code",
   "source": [
    "x_test = np.array([[3.0]])\n",
    "\n",
    "#predict\n",
    "pdf_c0_x = gaussian_fun(mean_c0, var_c0, x_test)\n",
    "pdf_c1_x = gaussian_fun(mean_c1, var_c1, x_test)\n",
    "#\n",
    "# P(C|X = 3.0) = P(C1) * P(X=3.0|C1)/P(3.0)\n",
    "# P(C|X = 3.0) = P(C2) * P(X=3.0|C2)/P(3.0)\n",
    "\n",
    "# normalize\n",
    "at here why we have this fomular ->\n",
    "total = pdf_c0_x*0.5 + pdf_c1_x*0.5\n",
    "\n",
    "pdf_c0_x = pdf_c0_x*0.5/total\n",
    "pdf_c1_x = pdf_c1_x*0.5/total\n",
    "print(pdf_c0_x)\n",
    "print(pdf_c1_x)\n",
    "\n",
    "# So if length is 3.0 it would belong to category 1\n"
   ],
   "id": "6ba5d46d17c46c6a",
   "outputs": [
    {
     "name": "stdout",
     "output_type": "stream",
     "text": [
      "[[0.0454125]]\n",
      "[[0.9545875]]\n"
     ]
    }
   ],
   "execution_count": 33
  }
 ],
 "metadata": {
  "kernelspec": {
   "display_name": "Python 3",
   "language": "python",
   "name": "python3"
  },
  "language_info": {
   "codemirror_mode": {
    "name": "ipython",
    "version": 2
   },
   "file_extension": ".py",
   "mimetype": "text/x-python",
   "name": "python",
   "nbconvert_exporter": "python",
   "pygments_lexer": "ipython2",
   "version": "2.7.6"
  }
 },
 "nbformat": 4,
 "nbformat_minor": 5
}
