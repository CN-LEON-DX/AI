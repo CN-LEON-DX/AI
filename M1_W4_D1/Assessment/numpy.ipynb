{
 "cells": [
  {
   "cell_type": "code",
   "execution_count": 1,
   "id": "e643e33d",
   "metadata": {},
   "outputs": [
    {
     "name": "stdout",
     "output_type": "stream",
     "text": [
      "Requirement already satisfied: numpy in /home/codespace/.local/lib/python3.12/site-packages (2.2.4)\n",
      "Note: you may need to restart the kernel to use updated packages.\n"
     ]
    }
   ],
   "source": [
    "pip install numpy"
   ]
  },
  {
   "cell_type": "code",
   "execution_count": 2,
   "id": "bd62cbf3",
   "metadata": {},
   "outputs": [
    {
     "name": "stdout",
     "output_type": "stream",
     "text": [
      "2.2.4\n"
     ]
    }
   ],
   "source": [
    "import numpy as np\n",
    "\n",
    "print(np.__version__)"
   ]
  },
  {
   "cell_type": "code",
   "execution_count": 19,
   "id": "c7aa71c0",
   "metadata": {},
   "outputs": [
    {
     "name": "stdout",
     "output_type": "stream",
     "text": [
      "[1.    2.222 3.    4.    5.   ]\n",
      "<class 'numpy.ndarray'>\n",
      "float64\n",
      "5\n",
      "1\n",
      "[0. 0. 0. 0. 0.]\n",
      "[1. 1. 1. 1.]\n",
      "[[1. 1. 1. 1. 1.]\n",
      " [1. 1. 1. 1. 1.]\n",
      " [1. 1. 1. 1. 1.]\n",
      " [1. 1. 1. 1. 1.]]\n"
     ]
    }
   ],
   "source": [
    "data = [1, 2.222, 3, 4, 5]\n",
    "arr_from_list = np.array(data)\n",
    "\n",
    "print(arr_from_list)\n",
    "print(type(arr_from_list))\n",
    "print(arr_from_list.dtype)\n",
    "print(arr_from_list.size)\n",
    "print(arr_from_list.ndim)\n",
    "\n",
    "\n",
    "print(np.zeros(5))\n",
    "\n",
    "print(np.ones(4))\n",
    "\n",
    "print(np.ones((4, 5)))"
   ]
  },
  {
   "cell_type": "code",
   "execution_count": null,
   "id": "e9038438",
   "metadata": {},
   "outputs": [
    {
     "name": "stdout",
     "output_type": "stream",
     "text": [
      "[[9 9 9 9 9]\n",
      " [9 9 9 9 9]\n",
      " [9 9 9 9 9]\n",
      " [9 9 9 9 9]]\n"
     ]
    }
   ],
   "source": [
    "# np.full là hàm dùng để tạo một mảng với tất cả các phần tử đều có cùng một giá trị xác định. Cú pháp:\n",
    "# np . full ( shape , fill_value )\n",
    "\n",
    "print(np.full((4, 5), 9))"
   ]
  },
  {
   "cell_type": "code",
   "execution_count": 21,
   "id": "6a1ae3aa",
   "metadata": {},
   "outputs": [
    {
     "name": "stdout",
     "output_type": "stream",
     "text": [
      "[-10.   -9.5  -9.   -8.5  -8.   -7.5  -7.   -6.5  -6.   -5.5  -5.   -4.5\n",
      "  -4.   -3.5  -3.   -2.5  -2.   -1.5  -1.   -0.5   0.    0.5   1.    1.5\n",
      "   2.    2.5   3.    3.5   4.    4.5   5.    5.5   6.    6.5   7.    7.5\n",
      "   8.    8.5   9.    9.5]\n"
     ]
    }
   ],
   "source": [
    "print(np.arange(-10, 10, 0.5))"
   ]
  },
  {
   "cell_type": "code",
   "execution_count": 22,
   "id": "620efc2b",
   "metadata": {},
   "outputs": [
    {
     "name": "stdout",
     "output_type": "stream",
     "text": [
      "[[1. 0. 0. 0.]\n",
      " [0. 1. 0. 0.]\n",
      " [0. 0. 1. 0.]\n",
      " [0. 0. 0. 1.]]\n"
     ]
    }
   ],
   "source": [
    "# tạo ma trận đơn vị với np.eye\n",
    "print(np.eye(4))"
   ]
  },
  {
   "cell_type": "code",
   "execution_count": 26,
   "id": "62a32a71",
   "metadata": {},
   "outputs": [
    {
     "name": "stdout",
     "output_type": "stream",
     "text": [
      "[[0.13548816 0.8878517  0.93260564]\n",
      " [0.44556816 0.38823555 0.25759644]]\n"
     ]
    }
   ],
   "source": [
    "\n",
    "np.random.seed(2025)\n",
    "\n",
    "rand_arr = np.random.rand(2, 3)\n",
    "print(rand_arr)"
   ]
  },
  {
   "cell_type": "code",
   "execution_count": 28,
   "id": "06daabf5",
   "metadata": {},
   "outputs": [
    {
     "name": "stdout",
     "output_type": "stream",
     "text": [
      "[[78 58 83 72 30]\n",
      " [42 18 52 44 71]\n",
      " [ 9 25 46 75 23]\n",
      " [98 14 40  7 40]]\n"
     ]
    }
   ],
   "source": [
    "# np.random.randint(low, hight, size)\n",
    "\n",
    "print(np.random.randint(1, 100, (4, 5)))"
   ]
  },
  {
   "cell_type": "code",
   "execution_count": 35,
   "id": "badc45a3",
   "metadata": {},
   "outputs": [
    {
     "name": "stdout",
     "output_type": "stream",
     "text": [
      " Sclicing arr1d từ chỉ số 1 đến 3: [4 5]\n"
     ]
    }
   ],
   "source": [
    "arr1d = np.array([1 , 2 , 3 , 4 , 5])\n",
    "slice_arr1d = arr1d[-2:]\n",
    "\n",
    "print (\" Sclicing arr1d từ chỉ số 1 đến 3:\",\n",
    "slice_arr1d )\n"
   ]
  },
  {
   "cell_type": "code",
   "execution_count": 40,
   "id": "d5b287b8",
   "metadata": {},
   "outputs": [
    {
     "name": "stdout",
     "output_type": "stream",
     "text": [
      "[[5 6]\n",
      " [8 9]]\n"
     ]
    }
   ],
   "source": [
    "arr = np.array([[1, 2, 3], [4, 5, 6], [7, 8, 9]])\n",
    "\n",
    "new = arr[1:, 1:]\n",
    "print(new)"
   ]
  },
  {
   "cell_type": "code",
   "execution_count": 43,
   "id": "175164d0",
   "metadata": {},
   "outputs": [
    {
     "data": {
      "text/plain": [
       "array([[1, 2, 3],\n",
       "       [4, 5, 6],\n",
       "       [4, 5, 6]])"
      ]
     },
     "execution_count": 43,
     "metadata": {},
     "output_type": "execute_result"
    }
   ],
   "source": [
    "# hàm hstack, vstack, concatenate\n",
    "# nối các mảng theo hướng khác nhau \n",
    "\n",
    "a1 = [1, 2, 3]\n",
    "a2 = [4, 5, 6]\n",
    "\n",
    "np.hstack((a1, a2)) # nối mảng theo chiều ngang\n",
    "np.vstack((a1, a2)) # nối theo chiều dọc như ma trận\n",
    "\n",
    "np.vstack((a1, a2, a2))"
   ]
  },
  {
   "cell_type": "code",
   "execution_count": 49,
   "id": "1bf3171d",
   "metadata": {},
   "outputs": [
    {
     "data": {
      "text/plain": [
       "array([1, 2, 3, 4, 5, 6])"
      ]
     },
     "execution_count": 49,
     "metadata": {},
     "output_type": "execute_result"
    }
   ],
   "source": [
    "a1 = np.array([1, 2, 3])\n",
    "a2 = np.array([4, 5, 6])\n",
    "np.concatenate((a1, a2), axis=0)"
   ]
  },
  {
   "cell_type": "code",
   "execution_count": 8,
   "id": "2954b951",
   "metadata": {},
   "outputs": [
    {
     "name": "stdout",
     "output_type": "stream",
     "text": [
      "[[1 2 3 4 5]]\n",
      "[[[1 2 3 4 5]]]\n"
     ]
    }
   ],
   "source": [
    "# slicing, expand_dims\n",
    "import numpy as np\n",
    "# điều chỉnh số chiều của ma trận\n",
    "# 1D -> 2D\n",
    "a = np.array([1, 2, 3, 4, 5])\n",
    "\n",
    "a = a[np.newaxis, :]\n",
    "print(a)\n",
    "\n",
    "a = a[np.newaxis, :]\n",
    "print(a)"
   ]
  },
  {
   "cell_type": "code",
   "execution_count": 15,
   "id": "50654d47",
   "metadata": {},
   "outputs": [
    {
     "name": "stdout",
     "output_type": "stream",
     "text": [
      "[[1 2 3]\n",
      " [4 5 6]]\n"
     ]
    }
   ],
   "source": [
    "# reshape in numpy\n",
    "\n",
    "a = np.array([1, 2, 3, 4, 5, 6])\n",
    "\n",
    "a = np.reshape(a, shape=(2, 3))\n",
    "print(a)\n",
    "\n"
   ]
  },
  {
   "cell_type": "code",
   "execution_count": null,
   "id": "c5209e60",
   "metadata": {},
   "outputs": [
    {
     "name": "stdout",
     "output_type": "stream",
     "text": [
      "[0.5 1.  6.  8. ]\n"
     ]
    }
   ],
   "source": [
    "import numpy as np\n",
    "# numpy where -> return the index \n",
    "a = np.array([1, 2, 3, 4])\n",
    "# if any item > 2 -> return double , else divide by 2\n",
    "print(np.where(a>2, a * 2, a /2))\n",
    "\n",
    "\n"
   ]
  },
  {
   "cell_type": "code",
   "execution_count": 3,
   "id": "8714e171",
   "metadata": {},
   "outputs": [
    {
     "name": "stdout",
     "output_type": "stream",
     "text": [
      "4\n",
      "1\n"
     ]
    }
   ],
   "source": [
    "# find max, min in array\n",
    "\n",
    "import numpy as np\n",
    "\n",
    "arr = np.array([1, 2, 3, 4])\n",
    "print(np.max(arr))\n",
    "print(np.min(arr))"
   ]
  },
  {
   "cell_type": "code",
   "execution_count": 6,
   "id": "633a5656",
   "metadata": {},
   "outputs": [
    {
     "name": "stdout",
     "output_type": "stream",
     "text": [
      "[4 9 3]\n",
      "[3 9]\n",
      "Min\n",
      "[1 2 2]\n",
      "[1 2]\n"
     ]
    }
   ],
   "source": [
    "arr2d = np.array([[1, 2, 3], [4, 9, 2]])\n",
    "\n",
    "print(np.max(arr2d, axis=0))\n",
    "print(np.max(arr2d, axis=1))\n",
    "print(\"Min\")\n",
    "print(np.min(arr2d, axis=0))\n",
    "print(np.min(arr2d, axis=1))"
   ]
  },
  {
   "cell_type": "code",
   "execution_count": null,
   "id": "8a25f2a7",
   "metadata": {},
   "outputs": [
    {
     "name": "stdout",
     "output_type": "stream",
     "text": [
      "[2 2]\n",
      "[1 0 1]\n"
     ]
    }
   ],
   "source": [
    "# Find the index of an array or matrix with\n",
    "# np.argmax(), np.argmin\n",
    "\n",
    "a2 = np.array([[1, 2, 3], [3, 1, 99]])\n",
    "\n",
    "print(np.argmax(a2, axis=1))\n",
    "print(np.argmax(a2, axis=0))\n",
    "\n",
    "\n"
   ]
  },
  {
   "cell_type": "code",
   "execution_count": 19,
   "id": "879282e8",
   "metadata": {},
   "outputs": [
    {
     "name": "stdout",
     "output_type": "stream",
     "text": [
      "[ 3  3  4  5 55]\n",
      "Sort default: [[1 2 7]\n",
      " [4 5 6]]\n",
      "sort by column: [[6 1 2]\n",
      " [7 5 4]]\n"
     ]
    }
   ],
   "source": [
    "# sort\n",
    "a = np.array([55, 3, 3, 4, 5])\n",
    "print(np.sort(a))\n",
    "\n",
    "ar = np.array([[7, 1, 2], [6, 5, 4]])\n",
    "\n",
    "sted = np.sort(ar)\n",
    "print(f'Sort default: {sted}')\n",
    "\n",
    "print(f'sort by column: {np.sort(ar, axis=0)}')\n",
    "# a3 = np.array([[[44, 2], [22, 2]], [[11, 2], [1, 222]]])\n",
    "\n",
    "# print(a3.shape)\n",
    "\n",
    "# print(np.sort(a3))\n",
    "\n"
   ]
  },
  {
   "cell_type": "code",
   "execution_count": null,
   "id": "65acc930",
   "metadata": {},
   "outputs": [],
   "source": []
  },
  {
   "cell_type": "code",
   "execution_count": 22,
   "id": "7314746c",
   "metadata": {},
   "outputs": [
    {
     "name": "stdout",
     "output_type": "stream",
     "text": [
      "[1, 2, 3, 2, 3, 4]\n",
      "[5 7 9]\n"
     ]
    }
   ],
   "source": [
    "# substract array + add + multiply array\n",
    "# + divide\n",
    "\n",
    "# Or simply using operator like + - * / \n",
    "\n",
    "a1 = [1, 2, 3]\n",
    "a2 = [2, 3, 4]\n",
    "print(a1 + a2)\n",
    "\n",
    "# dif\n",
    "\n",
    "a1 = np.array([1, 2, 3])\n",
    "a2 = np.array([4, 5, 6])\n",
    "\n",
    "print(a1 + a2)"
   ]
  },
  {
   "cell_type": "code",
   "execution_count": 23,
   "id": "9d15af75",
   "metadata": {},
   "outputs": [
    {
     "name": "stdout",
     "output_type": "stream",
     "text": [
      "32\n"
     ]
    }
   ],
   "source": [
    "# inner product \n",
    "# Phep tinh tich vo huong \n",
    "a1 = np.array([1, 2, 3])\n",
    "a2 = np.array([4, 5, 6])\n",
    "\n",
    "print(np.dot(a1, a2))\n"
   ]
  },
  {
   "cell_type": "code",
   "execution_count": null,
   "id": "4fc2ecca",
   "metadata": {},
   "outputs": [
    {
     "name": "stdout",
     "output_type": "stream",
     "text": [
      "[[15 15]\n",
      " [22 23]]\n"
     ]
    }
   ],
   "source": [
    "# Matrix-matrix multiplication\n",
    "# using matmul\n",
    "\n",
    "import numpy as np\n",
    "\n",
    "a1 = np.array([[1, 2, 3], [2, 3, 4]])\n",
    "a2 = np.array([[2, 3, ], [2, 3],[3, 2]])\n",
    "# 2 x 3 + 3 x 2 = 2 x 2\n",
    "print(np.matmul(a1, a2))\n"
   ]
  },
  {
   "cell_type": "code",
   "execution_count": 8,
   "id": "a0acc750",
   "metadata": {},
   "outputs": [
    {
     "name": "stdout",
     "output_type": "stream",
     "text": [
      "[[1 4]\n",
      " [2 5]\n",
      " [3 6]]\n",
      "Transpose matrix \n",
      ":[[1 4]\n",
      " [2 5]\n",
      " [3 6]]\n"
     ]
    }
   ],
   "source": [
    "# transpose - matrix\n",
    "# convert column to row and row to column\n",
    "# m x n => n x m\n",
    "\n",
    "# assume you have an matrix here \n",
    "a = np.array([[1, 2, 3], [4, 5, 6]])\n",
    "\n",
    "print(np.transpose(a))\n",
    "\n",
    "\n",
    "# (A + B)^T = A^T + B^T\n",
    "\n",
    "# (AB)^T = B^T*A^T\n",
    "\n",
    "print(f'Transpose matrix \\n:{a.T}')"
   ]
  },
  {
   "cell_type": "code",
   "execution_count": 11,
   "id": "ea8b12bc",
   "metadata": {},
   "outputs": [
    {
     "name": "stdout",
     "output_type": "stream",
     "text": [
      "[5 7 9]\n",
      "[ 6 15]\n"
     ]
    }
   ],
   "source": [
    "# summation \n",
    "# np.sum(a, axis=None, dtype=None, keepdims=False, initial=0, where=True)\n",
    "\n",
    "arr = np.array([[1 , 2 , 3] , [4 , 5 , 6]])\n",
    "\n",
    "column_sum = np.sum( arr , axis =0)\n",
    "row_sum = np.sum ( arr , axis =1)\n",
    "\n",
    "print(column_sum)\n",
    "print(row_sum)\n"
   ]
  },
  {
   "cell_type": "code",
   "execution_count": null,
   "id": "7d8f8954",
   "metadata": {},
   "outputs": [
    {
     "name": "stdout",
     "output_type": "stream",
     "text": [
      "Sum of array: 15\n",
      "Mean value: 3.0 = 15/5\n"
     ]
    }
   ],
   "source": [
    "import numpy as np\n",
    "arr = np.array([1, 2, 3, 4, 5])\n",
    "print(f'Sum of array: {np.sum(arr)}')\n",
    "\n",
    "mean_value = np.mean(arr)\n",
    "print(f'Mean value: {mean_value} = {np.sum(arr)}/{np.size(arr)}')\n",
    "\n"
   ]
  },
  {
   "cell_type": "code",
   "execution_count": 16,
   "id": "d802beab",
   "metadata": {},
   "outputs": [
    {
     "name": "stdout",
     "output_type": "stream",
     "text": [
      "Distance of an vector: 3.7416573867739413\n"
     ]
    }
   ],
   "source": [
    "# caculate the euclid distance vector\n",
    "\n",
    "# using np.linalg.norm\n",
    "\n",
    "# = sqrt(1^2 + 2^2 + 3^2)\n",
    "\n",
    "vector = np.array([1, 2, 3])\n",
    "\n",
    "norm = np.linalg.norm(vector)\n",
    "\n",
    "print(f\"Distance of an vector: {norm}\")"
   ]
  },
  {
   "cell_type": "code",
   "execution_count": 17,
   "id": "73cee688",
   "metadata": {},
   "outputs": [
    {
     "name": "stdout",
     "output_type": "stream",
     "text": [
      "Solutions x: [2. 3.]\n"
     ]
    }
   ],
   "source": [
    "# solve linear equation Ax = b\n",
    "\n",
    "A = np.array([[3, 1], [1, 2]])\n",
    "b = np.array([9, 8])\n",
    "# linear algorithm\n",
    "x = np.linalg.solve(A, b)\n",
    "\n",
    "print(\"Solutions x:\", x)"
   ]
  },
  {
   "cell_type": "code",
   "execution_count": 19,
   "id": "5ebc66f2",
   "metadata": {},
   "outputs": [
    {
     "name": "stdout",
     "output_type": "stream",
     "text": [
      "Basic case:[3 4 5]\n"
     ]
    }
   ],
   "source": [
    "# broadcasting, function \n",
    "# broadcasting allow you to using some opearator \n",
    "# with array has diff size\n",
    "\n",
    "# if matrix isn't match the dimension the operation will automatically expand the dimension in which matrix has smaller size\n",
    "\n",
    "a = np.array([1, 2, 3])\n",
    "\n",
    "result  = a + 2\n",
    "\n",
    "print(f'Basic case:{result}')"
   ]
  },
  {
   "cell_type": "code",
   "execution_count": 23,
   "id": "a49aadde",
   "metadata": {},
   "outputs": [
    {
     "name": "stdout",
     "output_type": "stream",
     "text": [
      "matrix 1d: [1 2 3]\n",
      "matrix 2d: [[1 2 3]\n",
      " [4 5 6]]\n",
      "Result: \n",
      " [[2 4 6]\n",
      " [5 7 9]]\n"
     ]
    }
   ],
   "source": [
    "a2d = np.array([[1, 2, 3], [4, 5, 6]])\n",
    "a1d = np.array([1, 2, 3])\n",
    "\n",
    "result = a2d + a1d\n",
    "\n",
    "print(\"matrix 1d:\", a1d)\n",
    "print(\"matrix 2d:\", a2d)\n",
    "\n",
    "print(\"Result: \\n\", result)"
   ]
  },
  {
   "cell_type": "code",
   "execution_count": 25,
   "id": "e772c5c0",
   "metadata": {},
   "outputs": [
    {
     "name": "stdout",
     "output_type": "stream",
     "text": [
      "Sum of element in each row:  [ 6 15 24]\n",
      "Sum of element in each column:  [12 15 18]\n"
     ]
    }
   ],
   "source": [
    "# apply_along_axis() \n",
    "# this func will apply all value in a row or column with function passby\n",
    "\n",
    "\n",
    "def sum_of_elements(arr):\n",
    "    return np.sum(arr)\n",
    "\n",
    "arr2d = np.array([[1, 2, 3], [4, 5, 6], [7, 8, 9]])\n",
    "\n",
    "result = np.apply_along_axis(sum_of_elements, axis=1, arr=arr2d)\n",
    "\n",
    "print(\"Sum of element in each row: \", result)\n",
    "\n",
    "\n",
    "result = np.apply_along_axis(sum_of_elements, axis=0, arr=arr2d)\n",
    "\n",
    "print(\"Sum of element in each column: \", result)"
   ]
  },
  {
   "cell_type": "code",
   "execution_count": 26,
   "id": "7bd0cc46",
   "metadata": {},
   "outputs": [
    {
     "name": "stdout",
     "output_type": "stream",
     "text": [
      "Convert C to F: [ 32.   68.   98.6 212. ]\n"
     ]
    }
   ],
   "source": [
    "# vectorize\n",
    "\n",
    "# convert the func to vectorize then it \n",
    "# can change each element with func \n",
    "\n",
    "# np.vectorize(func)\n",
    "\n",
    "def celsius_to_fahrenheit(c):\n",
    "    return (c * 9/5) + 32\n",
    "\n",
    "vt  = np.vectorize(celsius_to_fahrenheit)\n",
    "\n",
    "celsius = np.array([0, 20, 37, 100])\n",
    "\n",
    "fahrenheit= vt(celsius)\n",
    "\n",
    "print(f'Convert C to F:', fahrenheit)"
   ]
  },
  {
   "cell_type": "code",
   "execution_count": null,
   "id": "afee43ab",
   "metadata": {},
   "outputs": [],
   "source": []
  }
 ],
 "metadata": {
  "kernelspec": {
   "display_name": "Python 3",
   "language": "python",
   "name": "python3"
  },
  "language_info": {
   "codemirror_mode": {
    "name": "ipython",
    "version": 3
   },
   "file_extension": ".py",
   "mimetype": "text/x-python",
   "name": "python",
   "nbconvert_exporter": "python",
   "pygments_lexer": "ipython3",
   "version": "3.12.1"
  }
 },
 "nbformat": 4,
 "nbformat_minor": 5
}
