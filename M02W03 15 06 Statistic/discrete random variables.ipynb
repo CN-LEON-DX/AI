{
 "cells": [
  {
   "metadata": {},
   "cell_type": "markdown",
   "source": [
    "1. Cumulative Probaility distribution function\n",
    "\n",
    "Fx(X) = P(X <= x)"
   ],
   "id": "51d381d0f74e0cf9"
  },
  {
   "metadata": {},
   "cell_type": "markdown",
   "source": [
    "Probability mass function:\n",
    "pX(X) = P(X = x)\n",
    "\n",
    "Assume: **Toss a coin 3 times in sequence**\n",
    "**X(s) = the number of Heads in the sequence**\n",
    "\n",
    "Hàm mật độ xác xuất F\n",
    "\n",
    "We should have:\n",
    "O= {HHH, HHT, HTH, HTT, TTT, THH, THT, TTH}\n",
    "\n",
    "1. p(0) = 1/8 => F(-1) = P(X<=-1) = 0/8 When TTT\n",
    "2. p(1) = 3/8 => F(0) = P(X<=0) = 1/8  when HTT, THT, TTH\n",
    "3. p(2) = 3/8 => F(1) = P(X<=1) = 1/8 + 3/8 = 4/8 when HHT, HTH, THH\n",
    "4. p(3) = 1/8 => F(2) = P(X<=2) = 1/8 + 3/8 + 3/8 = 7/8 when HHH, TTT\n",
    "5.            => F(3) = P(X<=3) = 1/8 + 3/8 + 3/8 + 1/8 = 1\n",
    "6.            => F(4) = 1"
   ],
   "id": "8324922c47491251"
  },
  {
   "metadata": {},
   "cell_type": "markdown",
   "source": [
    "+ Caculate Expectation\n",
    "\n",
    "Expected value of a discrete random variable X is:\n",
    "E[X] = Sum(i = 0, i-> k) (Xk.P(X = Xk) = Sum(i = 0, i -> k) * Px(Xk)\n",
    "\n",
    "E[x] = Px1 * x1 + Px2 * x2  + ....\n"
   ],
   "id": "83610c8d04d410ea"
  },
  {
   "metadata": {},
   "cell_type": "markdown",
   "source": [
    "+ Rolling a die\n",
    "\n",
    "O = {1, 2, 3, 4, 5, 6}\n",
    "\n",
    "E(x) = 1 * 1/6 + 2*1/6 + ... + 6*1/6 = 7/2 = 3.5\n",
    "\n",
    "E(aX) = aE(X)\n",
    "E(aX + b) = aE(x) + b"
   ],
   "id": "77f54cbce43af9cf"
  },
  {
   "metadata": {},
   "cell_type": "markdown",
   "source": [
    "+ Variance (The average weighted square distance from the mean) of X:\n",
    "Var(X) = E[(X-mu)^2] = E[X^2] - mu^2 , mu = E(X)"
   ],
   "id": "712f1d48178c1c70"
  },
  {
   "metadata": {},
   "cell_type": "markdown",
   "source": [
    "+ Standard deviationn\n",
    "The average weighted distance from the mean of X:\n",
    "\n",
    "o(X) = sqrt(Var(X))"
   ],
   "id": "96b94980cf3df981"
  },
  {
   "metadata": {},
   "cell_type": "markdown",
   "source": [
    "+ COvariance (Hiệp số phương sai) and correlation (Hệ số tương quan)\n",
    "\n",
    "Covariance\n",
    "E[X] = mux, E[Y] = muy\n",
    "\n",
    "X = {1, 3, 4, 4}\n",
    "Y = {1, 2, 3, 2}\n",
    "\n",
    "Covarianece of X and Y:\n",
    "Cov(X, Y) = E[(X-mux)*(Y-muy)] = Sum( (x-mux)*(y-muy) )/(n-1)\n",
    "\n",
    "=> mux = 1/4(1 + 3 + 4 + 4) = 3\n",
    "=> muy = 2\n",
    "Var(X) = 1.5\n",
    "Var(Y) = 0.5\n",
    "=> o(X) = 1.22 , o(Y) = 0.707\n",
    "\n",
    "Cov(X, Y) = ((1-3)*(1-2) + (3-3)*(2-2) + (4-3)*(3-2) + (4-3)*(2-2))/(N-1) = 3/(N-1) (N=4 NUMBER OF SAMPLE)\n",
    "=> Cov(X,Y) = 3/3 = 1\n",
    "\n",
    "=> Nếu Cov > 0 thì X tăng Y tăng <0 thì X tăng Y giảm -> ~ = 0 thì gần như 2 biến độc lập"
   ],
   "id": "d655476e7dc5c9e8"
  },
  {
   "metadata": {},
   "cell_type": "markdown",
   "source": "",
   "id": "216b4c146c800159"
  }
 ],
 "metadata": {
  "kernelspec": {
   "display_name": "Python 3",
   "language": "python",
   "name": "python3"
  },
  "language_info": {
   "codemirror_mode": {
    "name": "ipython",
    "version": 2
   },
   "file_extension": ".py",
   "mimetype": "text/x-python",
   "name": "python",
   "nbconvert_exporter": "python",
   "pygments_lexer": "ipython2",
   "version": "2.7.6"
  }
 },
 "nbformat": 4,
 "nbformat_minor": 5
}
