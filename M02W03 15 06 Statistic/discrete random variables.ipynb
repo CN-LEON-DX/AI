{
 "cells": [
  {
   "metadata": {},
   "cell_type": "markdown",
   "source": [
    "1. Cumulative Probaility distribution function\n",
    "\n",
    "Fx(X) = P(X <= x)"
   ],
   "id": "51d381d0f74e0cf9"
  },
  {
   "metadata": {},
   "cell_type": "markdown",
   "source": [
    "Probability mass function:\n",
    "pX(X) = P(X = x)\n",
    "\n",
    "Assume: **Toss a coin 3 times in sequence**\n",
    "**X(s) = the number of Heads in the sequence**\n",
    "\n",
    "Hàm mật độ xác xuất F\n",
    "\n",
    "We should have:\n",
    "O= {HHH, HHT, HTH, HTT, TTT, THH, THT, TTH}\n",
    "\n",
    "1. p(0) = 1/8 => F(-1) = P(X<=-1) = 0/8 When TTT\n",
    "2. p(1) = 3/8 => F(0) = P(X<=0) = 1/8  when HTT, THT, TTH\n",
    "3. p(2) = 3/8 => F(1) = P(X<=1) = 1/8 + 3/8 = 4/8 when HHT, HTH, THH\n",
    "4. p(3) = 1/8 => F(2) = P(X<=2) = 1/8 + 3/8 + 3/8 = 7/8 when HHH, TTT\n",
    "5.            => F(3) = P(X<=3) = 1/8 + 3/8 + 3/8 + 1/8 = 1\n",
    "6.            => F(4) = 1"
   ],
   "id": "8324922c47491251"
  },
  {
   "metadata": {},
   "cell_type": "markdown",
   "source": [
    "+ Caculate Expectation\n",
    "\n",
    "Expected value of a discrete random variable X is:\n",
    "E[X] = Sum(i = 0, i-> k) (Xk.P(X = Xk) = Sum(i = 0, i -> k) * Px(Xk)\n",
    "\n",
    "E[x] = Px1 * x1 + Px2 * x2  + ....\n"
   ],
   "id": "83610c8d04d410ea"
  },
  {
   "metadata": {},
   "cell_type": "markdown",
   "source": [
    "+ Rolling a die\n",
    "\n",
    "O = {1, 2, 3, 4, 5, 6}\n",
    "\n",
    "E(x) = 1 * 1/6 + 2*1/6 + ... + 6*1/6 = 7/2 = 3.5\n",
    "\n",
    "E(aX) = aE(X)\n",
    "E(aX + b) = aE(x) + b"
   ],
   "id": "77f54cbce43af9cf"
  },
  {
   "metadata": {},
   "cell_type": "markdown",
   "source": [
    "+ Variance (The average weighted square distance from the mean) of X:\n",
    "Var(X) = E[(X-mu)^2] = E[X^2] - mu^2 , mu = E(X)"
   ],
   "id": "712f1d48178c1c70"
  },
  {
   "metadata": {},
   "cell_type": "markdown",
   "source": [
    "+ Standard deviationn\n",
    "The average weighted distance from the mean of X:\n",
    "\n",
    "o(X) = sqrt(Var(X))"
   ],
   "id": "96b94980cf3df981"
  },
  {
   "metadata": {},
   "cell_type": "markdown",
   "source": [
    "+ COvariance (Hiệp số phương sai) and correlation (Hệ số tương quan)\n",
    "\n",
    "Covariance\n",
    "E[X] = mux, E[Y] = muy\n",
    "\n",
    "X = {1, 3, 4, 4}\n",
    "Y = {1, 2, 3, 2}\n",
    "\n",
    "Covarianece of X and Y:\n",
    "Cov(X, Y) = E[(X-mux)*(Y-muy)] = Sum( (x-mux)*(y-muy) )/(n-1)\n",
    "\n",
    "=> mux = 1/4(1 + 3 + 4 + 4) = 3\n",
    "=> muy = 2\n",
    "Var(X) = 1.5\n",
    "Var(Y) = 0.5\n",
    "=> o(X) = 1.22 , o(Y) = 0.707\n",
    "\n",
    "Cov(X, Y) = ((1-3)*(1-2) + (3-3)*(2-2) + (4-3)*(3-2) + (4-3)*(2-2))/(N-1) = 3/(N-1) (N=4 NUMBER OF SAMPLE)\n",
    "=> Cov(X,Y) = 3/3 = 1\n",
    "\n",
    "Độ tương quan giữa X, Y\n",
    "=> Nếu Cov > 0 thì X tăng Y tăng <0 thì X tăng Y giảm -> ~ = 0 thì gần như 2 biến độc lập"
   ],
   "id": "d655476e7dc5c9e8"
  },
  {
   "metadata": {},
   "cell_type": "markdown",
   "source": [
    "Correlation\n",
    "\n",
    "of X and Y:\n",
    "Corr(X, Y) = Cov(X, Y) / sqrt(Var(X)* Var(Y))\n",
    "\n",
    "Corr(X, Y) = [-1:1]"
   ],
   "id": "216b4c146c800159"
  },
  {
   "metadata": {
    "ExecuteTime": {
     "end_time": "2025-09-14T15:27:54.507154Z",
     "start_time": "2025-09-14T15:27:54.500366Z"
    }
   },
   "cell_type": "code",
   "source": [
    "import numpy as np\n",
    "var1 = np.array([1, 3, 4, 4])\n",
    "var2 = np.array([1, 2, 3, 2])\n",
    "\n",
    "print(\"Covariance: \", np.cov(var1, var2))\n",
    "print(\"Correlation: \", np.correlate(var1, var2))\n",
    "print(\"Correlation: \", np.corrcoef(var1, var2))\n"
   ],
   "id": "f1cd8e353430f6c8",
   "outputs": [
    {
     "name": "stdout",
     "output_type": "stream",
     "text": [
      "Covariance:  [[2.         1.        ]\n",
      " [1.         0.66666667]]\n",
      "Correlation:  [27]\n",
      "Correlation:  [[1.        0.8660254]\n",
      " [0.8660254 1.       ]]\n"
     ]
    }
   ],
   "execution_count": 4
  },
  {
   "metadata": {},
   "cell_type": "markdown",
   "source": [
    "X = {1, 1, 2, 4}\n",
    "Y = {2, 3, 4, 3}\n",
    "=> E[X]=2, E[Y]=3\n",
    "=> Cov(X, Y) = 1/3\n",
    "Var(X) = 1/4((1-2)^2 + 1 + 4) = 1.5\n",
    "Var(Y) = 0.5\n",
    "=> Corr(X, Y) = 1/4 : sqrt(1.5*0.5) = 0.288  if we consider the sample is population\n",
    "otherwise: 1/3 would be in sample = 0.385"
   ],
   "id": "eeaf51b6bee9cf1c"
  },
  {
   "metadata": {},
   "cell_type": "markdown",
   "source": [
    "Practice:\n",
    "X ~ N(0, 1) E(X) = mux = 0, o(x) = 1\n",
    "Y ~ N(0.5, 1.5) E(Y) = muy = 0.5, o(y) = 1.5\n"
   ],
   "id": "4bcf361762efac67"
  },
  {
   "metadata": {},
   "cell_type": "markdown",
   "source": "Code",
   "id": "73de39535ae95586"
  },
  {
   "metadata": {
    "ExecuteTime": {
     "end_time": "2025-09-14T15:50:47.234849Z",
     "start_time": "2025-09-14T15:50:47.229484Z"
    }
   },
   "cell_type": "code",
   "source": [
    "data1 = np.random.normal(0, 1, 1000)\n",
    "data2 = np.random.normal(0.5, 1.5, 1000)\n",
    "np.cov(data1, data2)\n",
    "np.corrcoef(data1, data2)"
   ],
   "id": "33656a75f92ff7e9",
   "outputs": [
    {
     "data": {
      "text/plain": [
       "array([[1.        , 0.05378294],\n",
       "       [0.05378294, 1.        ]])"
      ]
     },
     "execution_count": 7,
     "metadata": {},
     "output_type": "execute_result"
    }
   ],
   "execution_count": 7
  },
  {
   "metadata": {
    "ExecuteTime": {
     "end_time": "2025-09-14T15:51:00.250513Z",
     "start_time": "2025-09-14T15:51:00.236572Z"
    }
   },
   "cell_type": "code",
   "source": [
    "data1 = np.random.normal(0, 1, 100000)\n",
    "data2 = np.random.normal(0.5, 1.5, 100000)\n",
    "np.cov(data1, data2)\n",
    "np.corrcoef(data1, data2)"
   ],
   "id": "d36da82317c357fc",
   "outputs": [
    {
     "data": {
      "text/plain": [
       "array([[1.        , 0.00469965],\n",
       "       [0.00469965, 1.        ]])"
      ]
     },
     "execution_count": 8,
     "metadata": {},
     "output_type": "execute_result"
    }
   ],
   "execution_count": 8
  },
  {
   "metadata": {},
   "cell_type": "markdown",
   "source": "it would be lead to 0 when random a mount of times",
   "id": "2b64804e80099511"
  }
 ],
 "metadata": {
  "kernelspec": {
   "display_name": "Python 3",
   "language": "python",
   "name": "python3"
  },
  "language_info": {
   "codemirror_mode": {
    "name": "ipython",
    "version": 2
   },
   "file_extension": ".py",
   "mimetype": "text/x-python",
   "name": "python",
   "nbconvert_exporter": "python",
   "pygments_lexer": "ipython2",
   "version": "2.7.6"
  }
 },
 "nbformat": 4,
 "nbformat_minor": 5
}
