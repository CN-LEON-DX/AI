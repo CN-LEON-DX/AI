{
 "cells": [
  {
   "cell_type": "code",
   "execution_count": null,
   "id": "0beb0afe",
   "metadata": {},
   "outputs": [
    {
     "name": "stdout",
     "output_type": "stream",
     "text": [
      "[5, 5, 5, 5, 10, 12, 33, 33]\n"
     ]
    }
   ],
   "source": [
    "# Searching and sorting algorithm\n",
    "\n",
    "num_list = [3, 4, 5, 1, -44, 5, 10, 12, 33, 1]\n",
    "\n",
    "k = 3\n",
    "# find the max value in list has size = k\n",
    "output_require = [5, 5, 5, 5, 10, 12, 33, 33]\n",
    "\n",
    "# k >= 1\n",
    "def sliding_window(arr, k):\n",
    "    res = []\n",
    "    if k == 1:\n",
    "        return arr\n",
    "    else:\n",
    "        for i in range(len(arr) - k + 1):\n",
    "            j = i + k\n",
    "            res.append(max(arr[i:j]))\n",
    "    return res\n",
    "\n",
    "print(sliding_window(num_list, k))\n",
    "            \n"
   ]
  },
  {
   "cell_type": "code",
   "execution_count": 2,
   "id": "020a675b",
   "metadata": {},
   "outputs": [
    {
     "name": "stdout",
     "output_type": "stream",
     "text": [
      "{'a': 1, 'b': 3, 'c': 2, 't': 1, 'w': 1}\n"
     ]
    }
   ],
   "source": [
    "# count occurences value in a list \n",
    "\n",
    "input  = \"abcbctwb\"\n",
    "\n",
    "def count_occurences(inp):\n",
    "    dic = {}\n",
    "    for  i in inp:\n",
    "        if i in dic:\n",
    "            dic[i] += 1\n",
    "        else:\n",
    "            dic[i] = 1  \n",
    "    return dic\n",
    "\n",
    "print(count_occurences(input))"
   ]
  },
  {
   "cell_type": "code",
   "execution_count": null,
   "id": "126e1dde",
   "metadata": {},
   "outputs": [
    {
     "name": "stdout",
     "output_type": "stream",
     "text": [
      "['I', 'love', 'Viet', 'Nam']\n"
     ]
    }
   ],
   "source": [
    "# word counting\n",
    "\n",
    "str = \"I love Viet Nam\"\n",
    "\n",
    "def count_word_in_string(inp):\n",
    "    ls = inp.split()\n",
    "    dic = {}\n",
    "    for \n",
    "    "
   ]
  }
 ],
 "metadata": {
  "kernelspec": {
   "display_name": "Python 3",
   "language": "python",
   "name": "python3"
  },
  "language_info": {
   "codemirror_mode": {
    "name": "ipython",
    "version": 3
   },
   "file_extension": ".py",
   "mimetype": "text/x-python",
   "name": "python",
   "nbconvert_exporter": "python",
   "pygments_lexer": "ipython3",
   "version": "3.12.1"
  }
 },
 "nbformat": 4,
 "nbformat_minor": 5
}
