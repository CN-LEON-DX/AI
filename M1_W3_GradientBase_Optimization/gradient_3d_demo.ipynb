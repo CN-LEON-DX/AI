{
 "cells": [
  {
   "cell_type": "code",
   "execution_count": null,
   "id": "df60a805",
   "metadata": {},
   "outputs": [],
   "source": [
    "import random \n",
    "\n",
    "# y = x + b\n",
    "def predict(x, b):\n",
    "    return x + b\n",
    "def drevative(y_hat, y):\n",
    "    return 2 * (y_hat - y)\n",
    "\n",
    "def update(b, lr, dl_db):\n",
    "    return b - lr*dl_db\n",
    "\n",
    "def compute_lost(y_hat, y):\n",
    "    return 2*(y_hat - y)**2\n",
    "\n",
    "# data\n",
    "x = 1\n",
    "y = 6\n"
   ]
  },
  {
   "cell_type": "code",
   "execution_count": null,
   "id": "ae99bcc7",
   "metadata": {},
   "outputs": [
    {
     "name": "stdout",
     "output_type": "stream",
     "text": [
      "loss: 5.119999999999997\n",
      "loss: 3.2768000000000015\n",
      "loss: 2.097152\n",
      "loss: 1.3421772800000011\n",
      "loss: 0.8589934591999998\n",
      "loss: 0.5497558138880007\n",
      "loss: 0.3518437208883207\n",
      "loss: 0.22517998136852527\n",
      "loss: 0.14411518807585655\n",
      "loss: 0.09223372036854788\n"
     ]
    }
   ],
   "source": [
    "b = 3 # init\n",
    "for _ in range(10):\n",
    "    y_hat = predict(x, b)\n",
    "    dre = drevative(y_hat, y)\n",
    "    b = update(b, lr=0.1, dl_db=dre)\n",
    "    # after adjust b \n",
    "    y_hat = predict(x, b)\n",
    "    print(\"loss:\", compute_lost(y_hat, y))\n",
    "\n",
    "\n"
   ]
  },
  {
   "cell_type": "code",
   "execution_count": null,
   "id": "5c010e84",
   "metadata": {},
   "outputs": [
    {
     "name": "stdout",
     "output_type": "stream",
     "text": [
      "4.7852516352\n"
     ]
    }
   ],
   "source": [
    "print(b)\n",
    "\n",
    "# y = x + 5 and b = 4.78 ~ 5"
   ]
  },
  {
   "cell_type": "code",
   "execution_count": null,
   "id": "53317baf",
   "metadata": {},
   "outputs": [],
   "source": [
    "# Problem 3\n",
    "# f(x) = y = ax + b\n",
    "\n",
    "# x = 1 and y = 6\n",
    "\n",
    "# given a, b\n",
    "# y_hat = ?\n",
    "\n",
    "# L'a = 2*x*(y_hat - y)\n",
    "# L'b = 2*(y_hat-y)\n",
    "\n",
    "# a = a - learning_rate*L'a\n",
    "# b = b - learning_rate*L'b"
   ]
  }
 ],
 "metadata": {
  "kernelspec": {
   "display_name": "Python 3",
   "language": "python",
   "name": "python3"
  },
  "language_info": {
   "codemirror_mode": {
    "name": "ipython",
    "version": 3
   },
   "file_extension": ".py",
   "mimetype": "text/x-python",
   "name": "python",
   "nbconvert_exporter": "python",
   "pygments_lexer": "ipython3",
   "version": "3.12.1"
  }
 },
 "nbformat": 4,
 "nbformat_minor": 5
}
