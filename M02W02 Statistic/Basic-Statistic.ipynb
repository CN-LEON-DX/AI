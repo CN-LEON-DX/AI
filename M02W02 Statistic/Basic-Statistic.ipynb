{
 "cells": [
  {
   "metadata": {},
   "cell_type": "markdown",
   "source": [
    "1. Mean = center of Data\n",
    "2. Standard Deviation = How data spread out the data from the mean\n",
    "3. Variance = Standard deviation squared - another measure of spread"
   ],
   "id": "567c38d4996c6a8c"
  },
  {
   "cell_type": "code",
   "id": "initial_id",
   "metadata": {
    "collapsed": true,
    "ExecuteTime": {
     "end_time": "2025-08-20T07:00:33.077130Z",
     "start_time": "2025-08-20T07:00:32.911493Z"
    }
   },
   "source": [
    "import numpy as np\n",
    "data = np.array([1, 3, 4, 4])\n",
    "\n",
    "print(\"Mean: \", np.mean(data), \"Std: \", np.std(data), \" Variance: \", np.var(data))"
   ],
   "outputs": [
    {
     "name": "stdout",
     "output_type": "stream",
     "text": [
      "Mean:  3.0 Std:  1.224744871391589  Variance:  1.5\n"
     ]
    }
   ],
   "execution_count": 1
  },
  {
   "metadata": {
    "ExecuteTime": {
     "end_time": "2025-08-17T13:47:46.432903Z",
     "start_time": "2025-08-17T13:47:46.423776Z"
    }
   },
   "cell_type": "code",
   "source": [
    "var1 = np.array([1, 3, 4, 4])\n",
    "var2 = np.array([1, 2, 3, 2])\n",
    "\n",
    "print(\"Covariance: \\n\", np.cov(var1, var2))\n",
    "print(\"Correlation: \\n\", np.corrcoef(var1, var2))"
   ],
   "id": "749ae799ce5272c6",
   "outputs": [
    {
     "name": "stdout",
     "output_type": "stream",
     "text": [
      "Covariance: \n",
      " [[2.         1.        ]\n",
      " [1.         0.66666667]]\n",
      "Correlation: \n",
      " [[1.        0.8660254]\n",
      " [0.8660254 1.       ]]\n"
     ]
    }
   ],
   "execution_count": 2
  },
  {
   "metadata": {},
   "cell_type": "code",
   "outputs": [],
   "execution_count": null,
   "source": [
    "# Expected value in discrete random variable X is:\n",
    "E(X) = sum(Xi * P(X=Xi)) = Sum(Xi * Px(Xk))\n"
   ],
   "id": "4ad47b9386150b59"
  },
  {
   "metadata": {},
   "cell_type": "code",
   "outputs": [],
   "execution_count": null,
   "source": [
    "# expect value when rolling a dice 1 time:\n",
    "# E = 1 * 1/6 + 2 * 1/6 + 3*1/6 + 4*1/6 + 5*1/6 + 1 = 7/2 = 3.5"
   ],
   "id": "1412bf6e40284401"
  },
  {
   "metadata": {},
   "cell_type": "code",
   "outputs": [],
   "execution_count": null,
   "source": [
    "Varience (The average weighted square distance from the mean) of X:\n",
    "Var(X) = E((X-j)^2) = Sum_k(X_k - j)^2 * P(X_k)"
   ],
   "id": "a7753ad2e6f8f333"
  }
 ],
 "metadata": {
  "kernelspec": {
   "display_name": "Python 3",
   "language": "python",
   "name": "python3"
  },
  "language_info": {
   "codemirror_mode": {
    "name": "ipython",
    "version": 2
   },
   "file_extension": ".py",
   "mimetype": "text/x-python",
   "name": "python",
   "nbconvert_exporter": "python",
   "pygments_lexer": "ipython2",
   "version": "2.7.6"
  }
 },
 "nbformat": 4,
 "nbformat_minor": 5
}
