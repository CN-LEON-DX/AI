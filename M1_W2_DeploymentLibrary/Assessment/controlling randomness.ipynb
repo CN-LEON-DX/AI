{
 "cells": [
  {
   "cell_type": "code",
   "execution_count": 4,
   "id": "a2624eaa",
   "metadata": {},
   "outputs": [
    {
     "name": "stdout",
     "output_type": "stream",
     "text": [
      "[5 4 1 7 3]\n"
     ]
    }
   ],
   "source": [
    "import numpy as np\n",
    "\n",
    "posibilities = np.array([0, 1, 2, 3, 4, 5, 6, 7, 8, 9])\n",
    "\n",
    "size = 5\n",
    "\n",
    "sample = np.random.choice(posibilities, size)\n",
    "\n",
    "print(sample)"
   ]
  },
  {
   "cell_type": "code",
   "execution_count": 8,
   "id": "ae02d331",
   "metadata": {},
   "outputs": [
    {
     "name": "stdout",
     "output_type": "stream",
     "text": [
      "[7.1147194  4.62306995 1.15310279 9.98808239 7.84106036 2.11033344\n",
      " 7.95106374 7.47834689 3.48917021 8.48020006]\n",
      "basic uniform 1.0\n"
     ]
    }
   ],
   "source": [
    "# uniform distribution \n",
    "\n",
    "low = 0\n",
    "high = 10\n",
    "size = 10 # numofsample\n",
    "\n",
    "sp = np.random.uniform(low, high, size)\n",
    "\n",
    "print(sp)\n",
    "\n",
    "print(\"basic uniform\", np.random.uniform(1))\n",
    "\n"
   ]
  },
  {
   "cell_type": "code",
   "execution_count": null,
   "id": "54baf668",
   "metadata": {},
   "outputs": [
    {
     "name": "stdout",
     "output_type": "stream",
     "text": [
      "Pi estimation: 3.141156\n"
     ]
    }
   ],
   "source": [
    "import math\n",
    "import random \n",
    "\n",
    "\n",
    "# assume the square have edge=2 -> circle = 1 inside a square\n",
    "\n",
    "# -> pi * r^2 = N_C \n",
    "# -> s ^ 2 = N_S\n",
    "\n",
    "# => PI = N_C/N_S * (s^2/r^2)\n",
    "\n",
    "s = 2\n",
    "r = 1\n",
    "# so diem tren hinh vuong\n",
    "N_S = 1_000_000\n",
    "# so diem tren hinh tron\n",
    "N_C = 0\n",
    "\n",
    "for i in range(N_S):\n",
    "    # gen x, y in [-1, 1]\n",
    "    x = random.random()*2 - 1\n",
    "    y = random.random()*2 - 1\n",
    "\n",
    "    x2 = x**2\n",
    "    y2 = y**2\n",
    "    # check this point is inside a circle or not ?\n",
    "    if math.sqrt(x2 + y2) <= 1.0:\n",
    "        N_C = N_C + 1\n",
    "\n",
    "# pi \n",
    "pi = (s**2 / r**2) * (N_C/N_S)\n",
    "\n",
    "print(\"Pi estimation:\",pi)"
   ]
  },
  {
   "cell_type": "code",
   "execution_count": 11,
   "id": "e475d2c6",
   "metadata": {},
   "outputs": [
    {
     "name": "stdout",
     "output_type": "stream",
     "text": [
      "0.24\n",
      "0.19\n",
      "0.06 0.2 0.12 "
     ]
    }
   ],
   "source": [
    "# Gaussian with input is a number \n",
    "\n",
    "import math\n",
    "\n",
    "def gaussian(x, mean, std):\n",
    "    result = 1/(std * math.sqrt(2 * math.pi)) * math.e**(-((x-mean)**2)/(2 *std**2))\n",
    "    return round(result, 2)\n",
    "\n",
    "# input \n",
    "x = 1\n",
    "mean = 0\n",
    "std = 1\n",
    "\n",
    "print(gaussian(x, mean, std))\n",
    "\n",
    "print(gaussian(x=0.5, mean=1, std=2))\n",
    "\n",
    "arr = [-3, -0.4, 2]\n",
    "for i in arr:\n",
    "    print(gaussian(x=i, mean=0, std=2), end=\" \")\n",
    "# 1/(std * math.sqrt(2 * math.pi))\n",
    "# * math.e ** (- (x - mean) ** 2 / (2 * std**2)) "
   ]
  },
  {
   "cell_type": "code",
   "execution_count": 25,
   "id": "6d775abf",
   "metadata": {},
   "outputs": [
    {
     "name": "stdout",
     "output_type": "stream",
     "text": [
      "[0.396953 0.391043 0.004432 0.053991 0.000001]\n",
      "[0.132906902451659, 0.13298002135386233, 0.0806569081730478]\n"
     ]
    }
   ],
   "source": [
    "# setup gaussian \n",
    "import numpy as np\n",
    "\n",
    "\n",
    "def gaussian(arr, mean, std):\n",
    "    for i in range(np.size(arr)):\n",
    "        arr[i] = 1/(std * math.sqrt(2 * math.pi)) * math.e**(-(arr[i] - mean)** 2 / (2 * std**2))\n",
    "    return arr\n",
    "array = np.array([0.1, 0.2, -3, 2, 5])\n",
    "\n",
    "mean = 0\n",
    "std = 1 \n",
    "np.set_printoptions(suppress=True, precision=6) \n",
    "print(gaussian(array, mean, std))\n",
    "print(gaussian([-0.1, 0.01, -3], mean=0, std=3))"
   ]
  },
  {
   "cell_type": "code",
   "execution_count": 27,
   "id": "e77dfcbb",
   "metadata": {},
   "outputs": [
    {
     "name": "stdout",
     "output_type": "stream",
     "text": [
      "169\n",
      " QUEST 2 \n",
      "0.17\n"
     ]
    }
   ],
   "source": [
    "# 7.1 count the number of time the dice roll in each side in DICE 6 side\n",
    "\n",
    "import random \n",
    "\n",
    "def gen_dice_rolls(n, seed=0):\n",
    "    random.seed(seed)\n",
    "\n",
    "    return [random.randint(1, 6) for _ in range(n)]\n",
    "\n",
    "n_rolls = 1000\n",
    "\n",
    "dice_rolls = gen_dice_rolls(n_rolls)\n",
    "\n",
    "\n",
    "def count_occurences(dice_rolls, number):\n",
    "    # count\n",
    "    time = 0\n",
    "    for i in dice_rolls:\n",
    "        if i == number:\n",
    "            time+=1 \n",
    "    return time\n",
    "# numbe of interest 1\n",
    "\n",
    "num_of_interest = 6\n",
    "\n",
    "occurences = count_occurences(dice_rolls, num_of_interest)\n",
    "print(occurences)\n",
    "# \n",
    "\n",
    "print(\" QUEST 2 \")\n",
    "def calculate_probability(dice_rolls, number):\n",
    "    # count\n",
    "    time = 0\n",
    "    for i in dice_rolls:\n",
    "        if i == number:\n",
    "            time+=1 \n",
    "    return time/1000\n",
    "\n",
    "num_of_interest = 4 \n",
    "\n",
    "print(calculate_probability(dice_rolls, num_of_interest))\n"
   ]
  },
  {
   "cell_type": "code",
   "execution_count": null,
   "id": "2067184c",
   "metadata": {},
   "outputs": [],
   "source": []
  }
 ],
 "metadata": {
  "kernelspec": {
   "display_name": "Python 3",
   "language": "python",
   "name": "python3"
  },
  "language_info": {
   "codemirror_mode": {
    "name": "ipython",
    "version": 3
   },
   "file_extension": ".py",
   "mimetype": "text/x-python",
   "name": "python",
   "nbconvert_exporter": "python",
   "pygments_lexer": "ipython3",
   "version": "3.12.1"
  }
 },
 "nbformat": 4,
 "nbformat_minor": 5
}
