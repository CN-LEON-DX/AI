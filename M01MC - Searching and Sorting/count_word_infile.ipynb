{
 "cells": [
  {
   "cell_type": "code",
   "execution_count": 6,
   "id": "03fb91f5",
   "metadata": {},
   "outputs": [],
   "source": [
    "file_path = \"file_text.txt\""
   ]
  },
  {
   "cell_type": "code",
   "execution_count": 8,
   "id": "b0e5207a",
   "metadata": {},
   "outputs": [
    {
     "name": "stdout",
     "output_type": "stream",
     "text": [
      "{'Tell': 1, 'me': 1, 'why': 1, 'that': 1, 'nothing': 1, 'about': 1, 'thiss': 1, 'stay': 1, 'saikla': 1}\n"
     ]
    }
   ],
   "source": [
    "def word_count(file_path):\n",
    "    content = \"\"\n",
    "    with open(file_path, 'r') as file:\n",
    "        content = file.read()\n",
    "    dic = {}\n",
    "    text = content.replace(',', '').replace('.', '').split()\n",
    "    for word in text:\n",
    "        if word  in dic:\n",
    "            dic[word] += 1\n",
    "        else:\n",
    "            dic[word] = 1    \n",
    "    return dic\n",
    "\n",
    "print(word_count(file_path))"
   ]
  }
 ],
 "metadata": {
  "kernelspec": {
   "display_name": ".venv",
   "language": "python",
   "name": "python3"
  },
  "language_info": {
   "codemirror_mode": {
    "name": "ipython",
    "version": 3
   },
   "file_extension": ".py",
   "mimetype": "text/x-python",
   "name": "python",
   "nbconvert_exporter": "python",
   "pygments_lexer": "ipython3",
   "version": "3.12.3"
  }
 },
 "nbformat": 4,
 "nbformat_minor": 5
}
